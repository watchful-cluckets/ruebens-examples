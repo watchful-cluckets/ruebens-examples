{
 "cells": [
  {
   "cell_type": "markdown",
   "metadata": {
    "heading_collapsed": true
   },
   "source": [
    "# Imports"
   ]
  },
  {
   "cell_type": "code",
   "execution_count": 1,
   "metadata": {
    "ExecuteTime": {
     "end_time": "2016-11-28T23:38:10.074934",
     "start_time": "2016-11-28T23:38:08.153723"
    },
    "collapsed": false,
    "hidden": true
   },
   "outputs": [
    {
     "name": "stdout",
     "output_type": "stream",
     "text": [
      "Ken Cavagnolo \n",
      "last updated: Mon Nov 28 2016 \n",
      "\n",
      "CPython 2.7.10\n",
      "IPython 5.1.0\n",
      "\n",
      "numpy 1.11.2\n",
      "scipy 0.18.1\n",
      "pandas 0.19.0\n",
      "matplotlib 1.5.3\n",
      "seaborn 0.8.dev0\n",
      "plotly 1.12.9\n",
      "boto3 1.4.1\n",
      "\n",
      "compiler   : GCC 4.2.1 Compatible Apple LLVM 7.0.0 (clang-700.0.72)\n",
      "system     : Darwin\n",
      "release    : 15.6.0\n",
      "machine    : x86_64\n",
      "processor  : i386\n",
      "CPU cores  : 4\n",
      "interpreter: 64bit\n",
      "host name  : DrGonzo.local\n",
      "Git hash   : 5fc097e261dd62154fcb1342710b3931297c54c0\n"
     ]
    }
   ],
   "source": [
    "##########\n",
    "# basics #\n",
    "##########\n",
    "\n",
    "import warnings\n",
    "warnings.filterwarnings('ignore')\n",
    "import datetime\n",
    "import glob\n",
    "import hashlib\n",
    "import itertools\n",
    "import math\n",
    "import operator\n",
    "import os\n",
    "import pickle\n",
    "import random\n",
    "import re\n",
    "import string\n",
    "import sys\n",
    "import time\n",
    "\n",
    "###########\n",
    "# science #\n",
    "###########\n",
    "\n",
    "import scipy as sp\n",
    "import numpy as np\n",
    "import pandas as pd\n",
    "rseed = random.seed(42)\n",
    "\n",
    "#################\n",
    "# visualization #\n",
    "#################\n",
    "\n",
    "# matplotlib\n",
    "import matplotlib.pyplot as plt\n",
    "import matplotlib as mpl\n",
    "from IPython.display import set_matplotlib_formats\n",
    "set_matplotlib_formats('pdf', 'svg')\n",
    "mpl.rcParams['figure.figsize']=(12.0,4.0)\n",
    "%matplotlib inline\n",
    "\n",
    "############\n",
    "# sys info #\n",
    "############\n",
    "\n",
    "%reload_ext watermark\n",
    "%watermark -a \"Ken Cavagnolo\" -n -u -v -m -h -g -p numpy,scipy,pandas,\\\n",
    "matplotlib,seaborn,plotly,boto3"
   ]
  },
  {
   "cell_type": "code",
   "execution_count": 2,
   "metadata": {
    "ExecuteTime": {
     "end_time": "2016-11-28T23:38:13.278590",
     "start_time": "2016-11-28T23:38:13.169369"
    },
    "collapsed": true,
    "hidden": true
   },
   "outputs": [],
   "source": [
    "import boto3"
   ]
  },
  {
   "cell_type": "code",
   "execution_count": 3,
   "metadata": {
    "ExecuteTime": {
     "end_time": "2016-11-28T23:38:20.902581",
     "start_time": "2016-11-28T23:38:20.897252"
    },
    "collapsed": false,
    "hidden": true
   },
   "outputs": [],
   "source": [
    "AWS_KEY = os.environ['AWS_ACCESS_KEY_ID']\n",
    "AWS_SECRET = os.environ['AWS_SECRET_ACCESS_KEY']"
   ]
  },
  {
   "cell_type": "markdown",
   "metadata": {},
   "source": [
    "# Setup S3"
   ]
  },
  {
   "cell_type": "code",
   "execution_count": 4,
   "metadata": {
    "ExecuteTime": {
     "end_time": "2016-11-28T23:38:27.631485",
     "start_time": "2016-11-28T23:38:27.624714"
    },
    "collapsed": false
   },
   "outputs": [
    {
     "name": "stdout",
     "output_type": "stream",
     "text": [
      "xaji0y6dpbhsahxthv3a3zmf8mdd4v30\n"
     ]
    }
   ],
   "source": [
    "bucket_name = ''.join(random.choice(string.ascii_lowercase+string.digits) for i in range(32))\n",
    "print bucket_name"
   ]
  },
  {
   "cell_type": "code",
   "execution_count": 6,
   "metadata": {
    "ExecuteTime": {
     "end_time": "2016-11-28T23:38:43.656828",
     "start_time": "2016-11-28T23:38:42.764577"
    },
    "collapsed": false
   },
   "outputs": [],
   "source": [
    "s3_client = boto3.client('s3')\n",
    "s3_client.create_bucket(Bucket=bucket_name)\n",
    "s3 = boto3.resource('s3')\n",
    "bucket = s3.Bucket(bucket_name)"
   ]
  },
  {
   "cell_type": "code",
   "execution_count": 7,
   "metadata": {
    "ExecuteTime": {
     "end_time": "2016-11-28T23:38:46.414007",
     "start_time": "2016-11-28T23:38:46.409262"
    },
    "collapsed": true
   },
   "outputs": [],
   "source": [
    "trainfile = '../datasets/banking.csv'\n",
    "testfile = '../datasets/banking-batch.csv'"
   ]
  },
  {
   "cell_type": "code",
   "execution_count": 8,
   "metadata": {
    "ExecuteTime": {
     "end_time": "2016-11-28T23:38:52.034298",
     "start_time": "2016-11-28T23:38:47.400137"
    },
    "collapsed": false
   },
   "outputs": [],
   "source": [
    "s3.meta.client.upload_file(trainfile, bucket_name, 'train.csv')"
   ]
  },
  {
   "cell_type": "code",
   "execution_count": 9,
   "metadata": {
    "ExecuteTime": {
     "end_time": "2016-11-28T23:38:52.997001",
     "start_time": "2016-11-28T23:38:52.037070"
    },
    "collapsed": false
   },
   "outputs": [],
   "source": [
    "s3.meta.client.upload_file(testfile, bucket_name, 'test.csv')"
   ]
  },
  {
   "cell_type": "code",
   "execution_count": 10,
   "metadata": {
    "ExecuteTime": {
     "end_time": "2016-11-28T23:38:54.991414",
     "start_time": "2016-11-28T23:38:54.879306"
    },
    "collapsed": false
   },
   "outputs": [
    {
     "name": "stdout",
     "output_type": "stream",
     "text": [
      "s3.ObjectSummary(bucket_name='xaji0y6dpbhsahxthv3a3zmf8mdd4v30', key=u'test.csv')\n",
      "s3.ObjectSummary(bucket_name='xaji0y6dpbhsahxthv3a3zmf8mdd4v30', key=u'train.csv')\n"
     ]
    }
   ],
   "source": [
    "for obj in bucket.objects.all():\n",
    "    print(obj)"
   ]
  },
  {
   "cell_type": "markdown",
   "metadata": {},
   "source": [
    "# Setup ML"
   ]
  },
  {
   "cell_type": "code",
   "execution_count": 11,
   "metadata": {
    "ExecuteTime": {
     "end_time": "2016-11-28T23:39:56.591022",
     "start_time": "2016-11-28T23:39:56.542668"
    },
    "collapsed": false
   },
   "outputs": [],
   "source": [
    "ml_client = boto3.client('machinelearning')"
   ]
  },
  {
   "cell_type": "code",
   "execution_count": 14,
   "metadata": {
    "ExecuteTime": {
     "end_time": "2016-11-28T23:44:35.115157",
     "start_time": "2016-11-28T23:44:34.473113"
    },
    "collapsed": false
   },
   "outputs": [
    {
     "ename": "ClientError",
     "evalue": "An error occurred (InvalidInputException) when calling the CreateDataSourceFromS3 operation: FAILURES (1): Exactly one of the following parameters should be provided, but they are all blank: data schema, data schema URI.",
     "output_type": "error",
     "traceback": [
      "\u001b[0;31m---------------------------------------------------------------------------\u001b[0m",
      "\u001b[0;31mClientError\u001b[0m                               Traceback (most recent call last)",
      "\u001b[0;32m<ipython-input-14-175be5e9e1de>\u001b[0m in \u001b[0;36m<module>\u001b[0;34m()\u001b[0m\n\u001b[1;32m      5\u001b[0m         \u001b[0;34m'DataLocationS3'\u001b[0m\u001b[0;34m:\u001b[0m \u001b[0;34m's3://'\u001b[0m\u001b[0;34m+\u001b[0m\u001b[0mbucket_name\u001b[0m\u001b[0;34m+\u001b[0m\u001b[0;34m'/train.csv'\u001b[0m\u001b[0;34m,\u001b[0m\u001b[0;34m\u001b[0m\u001b[0m\n\u001b[1;32m      6\u001b[0m     },\n\u001b[0;32m----> 7\u001b[0;31m     \u001b[0mComputeStatistics\u001b[0m\u001b[0;34m=\u001b[0m\u001b[0mTrue\u001b[0m\u001b[0;34m\u001b[0m\u001b[0m\n\u001b[0m\u001b[1;32m      8\u001b[0m )\n",
      "\u001b[0;32m/usr/local/lib/python2.7/site-packages/botocore/client.pyc\u001b[0m in \u001b[0;36m_api_call\u001b[0;34m(self, *args, **kwargs)\u001b[0m\n\u001b[1;32m    249\u001b[0m                     \"%s() only accepts keyword arguments.\" % py_operation_name)\n\u001b[1;32m    250\u001b[0m             \u001b[0;31m# The \"self\" in this scope is referring to the BaseClient.\u001b[0m\u001b[0;34m\u001b[0m\u001b[0;34m\u001b[0m\u001b[0m\n\u001b[0;32m--> 251\u001b[0;31m             \u001b[0;32mreturn\u001b[0m \u001b[0mself\u001b[0m\u001b[0;34m.\u001b[0m\u001b[0m_make_api_call\u001b[0m\u001b[0;34m(\u001b[0m\u001b[0moperation_name\u001b[0m\u001b[0;34m,\u001b[0m \u001b[0mkwargs\u001b[0m\u001b[0;34m)\u001b[0m\u001b[0;34m\u001b[0m\u001b[0m\n\u001b[0m\u001b[1;32m    252\u001b[0m \u001b[0;34m\u001b[0m\u001b[0m\n\u001b[1;32m    253\u001b[0m         \u001b[0m_api_call\u001b[0m\u001b[0;34m.\u001b[0m\u001b[0m__name__\u001b[0m \u001b[0;34m=\u001b[0m \u001b[0mstr\u001b[0m\u001b[0;34m(\u001b[0m\u001b[0mpy_operation_name\u001b[0m\u001b[0;34m)\u001b[0m\u001b[0;34m\u001b[0m\u001b[0m\n",
      "\u001b[0;32m/usr/local/lib/python2.7/site-packages/botocore/client.pyc\u001b[0m in \u001b[0;36m_make_api_call\u001b[0;34m(self, operation_name, api_params)\u001b[0m\n\u001b[1;32m    535\u001b[0m \u001b[0;34m\u001b[0m\u001b[0m\n\u001b[1;32m    536\u001b[0m         \u001b[0;32mif\u001b[0m \u001b[0mhttp\u001b[0m\u001b[0;34m.\u001b[0m\u001b[0mstatus_code\u001b[0m \u001b[0;34m>=\u001b[0m \u001b[0;36m300\u001b[0m\u001b[0;34m:\u001b[0m\u001b[0;34m\u001b[0m\u001b[0m\n\u001b[0;32m--> 537\u001b[0;31m             \u001b[0;32mraise\u001b[0m \u001b[0mClientError\u001b[0m\u001b[0;34m(\u001b[0m\u001b[0mparsed_response\u001b[0m\u001b[0;34m,\u001b[0m \u001b[0moperation_name\u001b[0m\u001b[0;34m)\u001b[0m\u001b[0;34m\u001b[0m\u001b[0m\n\u001b[0m\u001b[1;32m    538\u001b[0m         \u001b[0;32melse\u001b[0m\u001b[0;34m:\u001b[0m\u001b[0;34m\u001b[0m\u001b[0m\n\u001b[1;32m    539\u001b[0m             \u001b[0;32mreturn\u001b[0m \u001b[0mparsed_response\u001b[0m\u001b[0;34m\u001b[0m\u001b[0m\n",
      "\u001b[0;31mClientError\u001b[0m: An error occurred (InvalidInputException) when calling the CreateDataSourceFromS3 operation: FAILURES (1): Exactly one of the following parameters should be provided, but they are all blank: data schema, data schema URI."
     ]
    }
   ],
   "source": [
    "ml_client.create_data_source_from_s3(\n",
    "    DataSourceId='bank_train',\n",
    "    DataSourceName='banking_data_1',\n",
    "    DataSpec={\n",
    "        'DataLocationS3': 's3://'+bucket_name+'/train.csv',\n",
    "    },\n",
    "    ComputeStatistics=True\n",
    ")"
   ]
  },
  {
   "cell_type": "markdown",
   "metadata": {},
   "source": [
    "# Clean-up"
   ]
  },
  {
   "cell_type": "code",
   "execution_count": 15,
   "metadata": {
    "ExecuteTime": {
     "end_time": "2016-11-28T23:49:24.691197",
     "start_time": "2016-11-28T23:49:21.798155"
    },
    "collapsed": false
   },
   "outputs": [],
   "source": [
    "for obj in bucket.objects.all():\n",
    "    s3.Object(bucket.name, obj.key).delete()"
   ]
  },
  {
   "cell_type": "code",
   "execution_count": 16,
   "metadata": {
    "ExecuteTime": {
     "end_time": "2016-11-28T23:49:26.579898",
     "start_time": "2016-11-28T23:49:24.693476"
    },
    "collapsed": false
   },
   "outputs": [
    {
     "data": {
      "text/plain": [
       "{'ResponseMetadata': {'HTTPHeaders': {'date': 'Tue, 29 Nov 2016 04:49:25 GMT',\n",
       "   'server': 'AmazonS3',\n",
       "   'x-amz-id-2': '5KF8PydE9rOuV+VfjJcreoawVoZEckCCRfTJdCN8USlWgRi1HbNI+0rWAoOLgadIstHtaz042UQ=',\n",
       "   'x-amz-request-id': 'DF65A9664ED2BE59'},\n",
       "  'HTTPStatusCode': 204,\n",
       "  'HostId': '5KF8PydE9rOuV+VfjJcreoawVoZEckCCRfTJdCN8USlWgRi1HbNI+0rWAoOLgadIstHtaz042UQ=',\n",
       "  'RequestId': 'DF65A9664ED2BE59',\n",
       "  'RetryAttempts': 0}}"
      ]
     },
     "execution_count": 16,
     "metadata": {},
     "output_type": "execute_result"
    }
   ],
   "source": [
    "bucket.delete()"
   ]
  },
  {
   "cell_type": "code",
   "execution_count": null,
   "metadata": {
    "collapsed": true
   },
   "outputs": [],
   "source": []
  }
 ],
 "metadata": {
  "kernelspec": {
   "display_name": "Python 2",
   "language": "python",
   "name": "python2"
  },
  "language_info": {
   "codemirror_mode": {
    "name": "ipython",
    "version": 2
   },
   "file_extension": ".py",
   "mimetype": "text/x-python",
   "name": "python",
   "nbconvert_exporter": "python",
   "pygments_lexer": "ipython2",
   "version": "2.7.10"
  }
 },
 "nbformat": 4,
 "nbformat_minor": 1
}
